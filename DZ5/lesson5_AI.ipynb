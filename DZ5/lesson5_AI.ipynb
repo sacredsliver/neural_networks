{
  "nbformat": 4,
  "nbformat_minor": 0,
  "metadata": {
    "colab": {
      "provenance": [],
      "authorship_tag": "ABX9TyMgm5/rL1P2yDO4ip1l6QmB",
      "include_colab_link": true
    },
    "kernelspec": {
      "name": "python3",
      "display_name": "Python 3"
    },
    "language_info": {
      "name": "python"
    }
  },
  "cells": [
    {
      "cell_type": "markdown",
      "metadata": {
        "id": "view-in-github",
        "colab_type": "text"
      },
      "source": [
        "<a href=\"https://colab.research.google.com/github/sacredsliver/neural_networks/blob/main/DZ5/lesson5_AI.ipynb\" target=\"_parent\"><img src=\"https://colab.research.google.com/assets/colab-badge.svg\" alt=\"Open In Colab\"/></a>"
      ]
    },
    {
      "cell_type": "code",
      "execution_count": 53,
      "metadata": {
        "id": "ByCt0jzhEjRR"
      },
      "outputs": [],
      "source": [
        "import re\n",
        "\n"
      ]
    },
    {
      "cell_type": "code",
      "source": [
        "with open('train_data.txt', 'r', encoding='utf-8') as f:\n",
        "    text = f.read()\n",
        "    text = text.replace('\\ufeff', '') # убираем первый невидимый символ\n",
        "    text = re.sub(r'[^А-я ]', '', text) # убираем все недопустимые символы\n",
        "\n"
      ],
      "metadata": {
        "id": "UXLGQuo9Exis"
      },
      "execution_count": 54,
      "outputs": []
    },
    {
      "cell_type": "code",
      "source": [
        "num_characters = 34 #33 буквы + пробел"
      ],
      "metadata": {
        "id": "qFzPfHRHFBuJ"
      },
      "execution_count": 55,
      "outputs": []
    },
    {
      "cell_type": "code",
      "source": [
        "import keras\n",
        "from keras.preprocessing.text import Tokenizer"
      ],
      "metadata": {
        "id": "sxlzSW92FCpx"
      },
      "execution_count": 56,
      "outputs": []
    },
    {
      "cell_type": "code",
      "source": [
        "tokenizer = Tokenizer(num_words=num_characters, char_level=True)"
      ],
      "metadata": {
        "id": "DUVKo_pJIc0b"
      },
      "execution_count": 57,
      "outputs": []
    },
    {
      "cell_type": "code",
      "source": [
        "tokenizer.fit_on_texts(text)"
      ],
      "metadata": {
        "id": "bbds9oGaIgQZ"
      },
      "execution_count": 58,
      "outputs": []
    },
    {
      "cell_type": "code",
      "source": [
        "print(tokenizer.word_index)"
      ],
      "metadata": {
        "colab": {
          "base_uri": "https://localhost:8080/"
        },
        "id": "V38FUM7EIjcL",
        "outputId": "68b08867-be87-4a78-f1f8-daf0ac8d33aa"
      },
      "execution_count": 59,
      "outputs": [
        {
          "output_type": "stream",
          "name": "stdout",
          "text": [
            "{' ': 1, 'о': 2, 'т': 3, 'е': 4, 'и': 5, 'в': 6, 'н': 7, 'с': 8, 'л': 9, 'п': 10, 'ь': 11, 'ы': 12, 'р': 13, 'а': 14, 'д': 15, 'у': 16, 'к': 17, 'з': 18, 'ч': 19, 'й': 20, 'м': 21, 'г': 22, 'б': 23, 'я': 24, 'ш': 25, 'ю': 26, 'х': 27}\n"
          ]
        }
      ]
    },
    {
      "cell_type": "code",
      "source": [
        "inp_chars = 6\n",
        "data = tokenizer.texts_to_matrix(text)"
      ],
      "metadata": {
        "id": "ypHYmbUeJR1n"
      },
      "execution_count": 60,
      "outputs": []
    },
    {
      "cell_type": "code",
      "source": [
        "data"
      ],
      "metadata": {
        "colab": {
          "base_uri": "https://localhost:8080/"
        },
        "id": "2kEO_3iCJU0G",
        "outputId": "ab604a68-dfbf-46b8-aac1-28387a8f44d9"
      },
      "execution_count": 61,
      "outputs": [
        {
          "output_type": "execute_result",
          "data": {
            "text/plain": [
              "array([[0., 0., 0., ..., 0., 0., 0.],\n",
              "       [0., 0., 0., ..., 0., 0., 0.],\n",
              "       [0., 1., 0., ..., 0., 0., 0.],\n",
              "       ...,\n",
              "       [0., 0., 0., ..., 0., 0., 0.],\n",
              "       [0., 0., 1., ..., 0., 0., 0.],\n",
              "       [0., 0., 0., ..., 0., 0., 0.]])"
            ]
          },
          "metadata": {},
          "execution_count": 61
        }
      ]
    },
    {
      "cell_type": "code",
      "source": [
        "n = data.shape[0]-inp_chars\n",
        "n  #размер обучающего множества"
      ],
      "metadata": {
        "colab": {
          "base_uri": "https://localhost:8080/"
        },
        "id": "7zr19EtFLQmx",
        "outputId": "dd5a8fb3-77bb-4dd1-f46f-d82e9096d449"
      },
      "execution_count": 62,
      "outputs": [
        {
          "output_type": "execute_result",
          "data": {
            "text/plain": [
              "199"
            ]
          },
          "metadata": {},
          "execution_count": 62
        }
      ]
    },
    {
      "cell_type": "code",
      "source": [
        "import numpy as np\n",
        "\n"
      ],
      "metadata": {
        "id": "R5l5FXtpLQ3m"
      },
      "execution_count": 63,
      "outputs": []
    },
    {
      "cell_type": "code",
      "source": [
        "X = np.array([data[i:i+inp_chars, :] for i in range(n)])\n",
        "Y = data[inp_chars:] #предсказание следующего символа"
      ],
      "metadata": {
        "id": "M_iV8sLPLUDG"
      },
      "execution_count": 64,
      "outputs": []
    },
    {
      "cell_type": "code",
      "source": [
        "from keras.layers import *\n",
        "from keras.models import Sequential"
      ],
      "metadata": {
        "id": "vlIdJ-46Lpqz"
      },
      "execution_count": 65,
      "outputs": []
    },
    {
      "cell_type": "code",
      "source": [
        "model = Sequential()\n",
        "model.add(Input((inp_chars, num_characters)))\n",
        "model.add(SimpleRNN(500, activation='tanh'))\n",
        "model.add(Dense(num_characters, activation='softmax'))\n",
        "model.summary()"
      ],
      "metadata": {
        "colab": {
          "base_uri": "https://localhost:8080/"
        },
        "id": "oeJFyjaGLsEl",
        "outputId": "2660d388-ac1f-4792-9411-3b6c4caffbc0"
      },
      "execution_count": 66,
      "outputs": [
        {
          "output_type": "stream",
          "name": "stdout",
          "text": [
            "Model: \"sequential_3\"\n",
            "_________________________________________________________________\n",
            " Layer (type)                Output Shape              Param #   \n",
            "=================================================================\n",
            " simple_rnn_3 (SimpleRNN)    (None, 500)               267500    \n",
            "                                                                 \n",
            " dense_3 (Dense)             (None, 34)                17034     \n",
            "                                                                 \n",
            "=================================================================\n",
            "Total params: 284534 (1.09 MB)\n",
            "Trainable params: 284534 (1.09 MB)\n",
            "Non-trainable params: 0 (0.00 Byte)\n",
            "_________________________________________________________________\n"
          ]
        }
      ]
    },
    {
      "cell_type": "code",
      "source": [
        "model.compile(loss='categorical_crossentropy', metrics=['accuracy'], optimizer='adam')\n",
        "history = model.fit(X, Y, batch_size=32, epochs=100)"
      ],
      "metadata": {
        "colab": {
          "base_uri": "https://localhost:8080/"
        },
        "id": "HbDziO30MJUu",
        "outputId": "cf3a3a9c-b11c-4c66-8f66-e203e983ed5c"
      },
      "execution_count": 67,
      "outputs": [
        {
          "output_type": "stream",
          "name": "stdout",
          "text": [
            "Epoch 1/100\n",
            "7/7 [==============================] - 1s 18ms/step - loss: 3.3771 - accuracy: 0.1206\n",
            "Epoch 2/100\n",
            "7/7 [==============================] - 0s 20ms/step - loss: 2.4266 - accuracy: 0.2764\n",
            "Epoch 3/100\n",
            "7/7 [==============================] - 0s 17ms/step - loss: 1.9327 - accuracy: 0.4824\n",
            "Epoch 4/100\n",
            "7/7 [==============================] - 0s 20ms/step - loss: 1.5283 - accuracy: 0.5528\n",
            "Epoch 5/100\n",
            "7/7 [==============================] - 0s 18ms/step - loss: 1.2547 - accuracy: 0.6080\n",
            "Epoch 6/100\n",
            "7/7 [==============================] - 0s 17ms/step - loss: 1.0126 - accuracy: 0.6734\n",
            "Epoch 7/100\n",
            "7/7 [==============================] - 0s 17ms/step - loss: 0.8461 - accuracy: 0.7487\n",
            "Epoch 8/100\n",
            "7/7 [==============================] - 0s 18ms/step - loss: 0.7569 - accuracy: 0.7638\n",
            "Epoch 9/100\n",
            "7/7 [==============================] - 0s 17ms/step - loss: 0.6610 - accuracy: 0.8241\n",
            "Epoch 10/100\n",
            "7/7 [==============================] - 0s 18ms/step - loss: 0.6263 - accuracy: 0.8342\n",
            "Epoch 11/100\n",
            "7/7 [==============================] - 0s 16ms/step - loss: 0.5232 - accuracy: 0.8844\n",
            "Epoch 12/100\n",
            "7/7 [==============================] - 0s 19ms/step - loss: 0.4570 - accuracy: 0.8995\n",
            "Epoch 13/100\n",
            "7/7 [==============================] - 0s 17ms/step - loss: 0.4568 - accuracy: 0.9095\n",
            "Epoch 14/100\n",
            "7/7 [==============================] - 0s 19ms/step - loss: 0.4305 - accuracy: 0.9146\n",
            "Epoch 15/100\n",
            "7/7 [==============================] - 0s 18ms/step - loss: 0.4837 - accuracy: 0.9095\n",
            "Epoch 16/100\n",
            "7/7 [==============================] - 0s 17ms/step - loss: 0.3600 - accuracy: 0.9196\n",
            "Epoch 17/100\n",
            "7/7 [==============================] - 0s 17ms/step - loss: 0.2753 - accuracy: 0.9598\n",
            "Epoch 18/100\n",
            "7/7 [==============================] - 0s 17ms/step - loss: 0.2397 - accuracy: 0.9548\n",
            "Epoch 19/100\n",
            "7/7 [==============================] - 0s 18ms/step - loss: 0.2303 - accuracy: 0.9598\n",
            "Epoch 20/100\n",
            "7/7 [==============================] - 0s 21ms/step - loss: 0.1781 - accuracy: 0.9648\n",
            "Epoch 21/100\n",
            "7/7 [==============================] - 0s 17ms/step - loss: 0.1780 - accuracy: 0.9749\n",
            "Epoch 22/100\n",
            "7/7 [==============================] - 0s 17ms/step - loss: 0.2409 - accuracy: 0.9548\n",
            "Epoch 23/100\n",
            "7/7 [==============================] - 0s 17ms/step - loss: 0.2230 - accuracy: 0.9749\n",
            "Epoch 24/100\n",
            "7/7 [==============================] - 0s 17ms/step - loss: 0.2450 - accuracy: 0.9447\n",
            "Epoch 25/100\n",
            "7/7 [==============================] - 0s 16ms/step - loss: 0.1432 - accuracy: 0.9849\n",
            "Epoch 26/100\n",
            "7/7 [==============================] - 0s 16ms/step - loss: 0.1379 - accuracy: 0.9749\n",
            "Epoch 27/100\n",
            "7/7 [==============================] - 0s 16ms/step - loss: 0.1391 - accuracy: 0.9598\n",
            "Epoch 28/100\n",
            "7/7 [==============================] - 0s 19ms/step - loss: 0.1268 - accuracy: 0.9698\n",
            "Epoch 29/100\n",
            "7/7 [==============================] - 0s 17ms/step - loss: 0.1281 - accuracy: 0.9849\n",
            "Epoch 30/100\n",
            "7/7 [==============================] - 0s 17ms/step - loss: 0.1181 - accuracy: 0.9749\n",
            "Epoch 31/100\n",
            "7/7 [==============================] - 0s 17ms/step - loss: 0.1001 - accuracy: 0.9849\n",
            "Epoch 32/100\n",
            "7/7 [==============================] - 0s 16ms/step - loss: 0.0774 - accuracy: 0.9899\n",
            "Epoch 33/100\n",
            "7/7 [==============================] - 0s 16ms/step - loss: 0.0855 - accuracy: 0.9799\n",
            "Epoch 34/100\n",
            "7/7 [==============================] - 0s 17ms/step - loss: 0.0842 - accuracy: 0.9799\n",
            "Epoch 35/100\n",
            "7/7 [==============================] - 0s 17ms/step - loss: 0.0969 - accuracy: 0.9950\n",
            "Epoch 36/100\n",
            "7/7 [==============================] - 0s 22ms/step - loss: 0.1368 - accuracy: 0.9799\n",
            "Epoch 37/100\n",
            "7/7 [==============================] - 0s 26ms/step - loss: 0.1124 - accuracy: 0.9849\n",
            "Epoch 38/100\n",
            "7/7 [==============================] - 0s 25ms/step - loss: 0.0803 - accuracy: 0.9899\n",
            "Epoch 39/100\n",
            "7/7 [==============================] - 0s 26ms/step - loss: 0.0885 - accuracy: 0.9799\n",
            "Epoch 40/100\n",
            "7/7 [==============================] - 0s 25ms/step - loss: 0.1035 - accuracy: 0.9799\n",
            "Epoch 41/100\n",
            "7/7 [==============================] - 0s 27ms/step - loss: 0.1176 - accuracy: 0.9899\n",
            "Epoch 42/100\n",
            "7/7 [==============================] - 0s 29ms/step - loss: 0.0915 - accuracy: 0.9899\n",
            "Epoch 43/100\n",
            "7/7 [==============================] - 0s 27ms/step - loss: 0.0797 - accuracy: 0.9899\n",
            "Epoch 44/100\n",
            "7/7 [==============================] - 0s 26ms/step - loss: 0.0652 - accuracy: 0.9849\n",
            "Epoch 45/100\n",
            "7/7 [==============================] - 0s 25ms/step - loss: 0.0536 - accuracy: 0.9899\n",
            "Epoch 46/100\n",
            "7/7 [==============================] - 0s 26ms/step - loss: 0.0495 - accuracy: 0.9899\n",
            "Epoch 47/100\n",
            "7/7 [==============================] - 0s 28ms/step - loss: 0.0469 - accuracy: 0.9849\n",
            "Epoch 48/100\n",
            "7/7 [==============================] - 0s 28ms/step - loss: 0.0409 - accuracy: 0.9849\n",
            "Epoch 49/100\n",
            "7/7 [==============================] - 0s 25ms/step - loss: 0.0474 - accuracy: 0.9899\n",
            "Epoch 50/100\n",
            "7/7 [==============================] - 0s 29ms/step - loss: 0.0469 - accuracy: 0.9799\n",
            "Epoch 51/100\n",
            "7/7 [==============================] - 0s 30ms/step - loss: 0.0344 - accuracy: 0.9899\n",
            "Epoch 52/100\n",
            "7/7 [==============================] - 0s 16ms/step - loss: 0.0377 - accuracy: 0.9950\n",
            "Epoch 53/100\n",
            "7/7 [==============================] - 0s 21ms/step - loss: 0.0398 - accuracy: 0.9849\n",
            "Epoch 54/100\n",
            "7/7 [==============================] - 0s 16ms/step - loss: 0.0364 - accuracy: 0.9899\n",
            "Epoch 55/100\n",
            "7/7 [==============================] - 0s 16ms/step - loss: 0.0556 - accuracy: 0.9749\n",
            "Epoch 56/100\n",
            "7/7 [==============================] - 0s 17ms/step - loss: 0.2671 - accuracy: 0.9598\n",
            "Epoch 57/100\n",
            "7/7 [==============================] - 0s 16ms/step - loss: 0.3318 - accuracy: 0.9447\n",
            "Epoch 58/100\n",
            "7/7 [==============================] - 0s 16ms/step - loss: 0.1886 - accuracy: 0.9497\n",
            "Epoch 59/100\n",
            "7/7 [==============================] - 0s 16ms/step - loss: 0.1505 - accuracy: 0.9698\n",
            "Epoch 60/100\n",
            "7/7 [==============================] - 0s 17ms/step - loss: 0.1206 - accuracy: 0.9698\n",
            "Epoch 61/100\n",
            "7/7 [==============================] - 0s 20ms/step - loss: 0.0702 - accuracy: 0.9950\n",
            "Epoch 62/100\n",
            "7/7 [==============================] - 0s 17ms/step - loss: 0.1007 - accuracy: 0.9749\n",
            "Epoch 63/100\n",
            "7/7 [==============================] - 0s 18ms/step - loss: 0.0555 - accuracy: 0.9899\n",
            "Epoch 64/100\n",
            "7/7 [==============================] - 0s 16ms/step - loss: 0.0562 - accuracy: 0.9849\n",
            "Epoch 65/100\n",
            "7/7 [==============================] - 0s 17ms/step - loss: 0.0328 - accuracy: 0.9950\n",
            "Epoch 66/100\n",
            "7/7 [==============================] - 0s 17ms/step - loss: 0.0317 - accuracy: 0.9899\n",
            "Epoch 67/100\n",
            "7/7 [==============================] - 0s 17ms/step - loss: 0.0278 - accuracy: 0.9950\n",
            "Epoch 68/100\n",
            "7/7 [==============================] - 0s 17ms/step - loss: 0.0235 - accuracy: 0.9899\n",
            "Epoch 69/100\n",
            "7/7 [==============================] - 0s 23ms/step - loss: 0.0236 - accuracy: 0.9950\n",
            "Epoch 70/100\n",
            "7/7 [==============================] - 0s 17ms/step - loss: 0.0231 - accuracy: 0.9950\n",
            "Epoch 71/100\n",
            "7/7 [==============================] - 0s 17ms/step - loss: 0.0237 - accuracy: 0.9899\n",
            "Epoch 72/100\n",
            "7/7 [==============================] - 0s 17ms/step - loss: 0.0255 - accuracy: 0.9899\n",
            "Epoch 73/100\n",
            "7/7 [==============================] - 0s 18ms/step - loss: 0.0210 - accuracy: 0.9899\n",
            "Epoch 74/100\n",
            "7/7 [==============================] - 0s 16ms/step - loss: 0.0238 - accuracy: 0.9950\n",
            "Epoch 75/100\n",
            "7/7 [==============================] - 0s 19ms/step - loss: 0.0198 - accuracy: 0.9950\n",
            "Epoch 76/100\n",
            "7/7 [==============================] - 0s 20ms/step - loss: 0.0223 - accuracy: 0.9950\n",
            "Epoch 77/100\n",
            "7/7 [==============================] - 0s 22ms/step - loss: 0.0224 - accuracy: 0.9899\n",
            "Epoch 78/100\n",
            "7/7 [==============================] - 0s 21ms/step - loss: 0.0188 - accuracy: 0.9899\n",
            "Epoch 79/100\n",
            "7/7 [==============================] - 0s 19ms/step - loss: 0.0189 - accuracy: 0.9899\n",
            "Epoch 80/100\n",
            "7/7 [==============================] - 0s 19ms/step - loss: 0.0391 - accuracy: 0.9950\n",
            "Epoch 81/100\n",
            "7/7 [==============================] - 0s 19ms/step - loss: 0.0437 - accuracy: 0.9950\n",
            "Epoch 82/100\n",
            "7/7 [==============================] - 0s 19ms/step - loss: 0.0283 - accuracy: 0.9950\n",
            "Epoch 83/100\n",
            "7/7 [==============================] - 0s 17ms/step - loss: 0.0269 - accuracy: 0.9899\n",
            "Epoch 84/100\n",
            "7/7 [==============================] - 0s 20ms/step - loss: 0.0420 - accuracy: 0.9899\n",
            "Epoch 85/100\n",
            "7/7 [==============================] - 0s 16ms/step - loss: 0.0272 - accuracy: 0.9899\n",
            "Epoch 86/100\n",
            "7/7 [==============================] - 0s 17ms/step - loss: 0.0170 - accuracy: 0.9950\n",
            "Epoch 87/100\n",
            "7/7 [==============================] - 0s 16ms/step - loss: 0.0227 - accuracy: 0.9950\n",
            "Epoch 88/100\n",
            "7/7 [==============================] - 0s 17ms/step - loss: 0.0166 - accuracy: 0.9950\n",
            "Epoch 89/100\n",
            "7/7 [==============================] - 0s 16ms/step - loss: 0.0242 - accuracy: 0.9899\n",
            "Epoch 90/100\n",
            "7/7 [==============================] - 0s 17ms/step - loss: 0.0108 - accuracy: 1.0000\n",
            "Epoch 91/100\n",
            "7/7 [==============================] - 0s 16ms/step - loss: 0.0421 - accuracy: 0.9950\n",
            "Epoch 92/100\n",
            "7/7 [==============================] - 0s 22ms/step - loss: 0.0388 - accuracy: 0.9950\n",
            "Epoch 93/100\n",
            "7/7 [==============================] - 0s 17ms/step - loss: 0.0311 - accuracy: 0.9950\n",
            "Epoch 94/100\n",
            "7/7 [==============================] - 0s 21ms/step - loss: 0.0181 - accuracy: 0.9950\n",
            "Epoch 95/100\n",
            "7/7 [==============================] - 0s 17ms/step - loss: 0.0180 - accuracy: 0.9950\n",
            "Epoch 96/100\n",
            "7/7 [==============================] - 0s 16ms/step - loss: 0.0189 - accuracy: 0.9950\n",
            "Epoch 97/100\n",
            "7/7 [==============================] - 0s 16ms/step - loss: 0.0155 - accuracy: 0.9950\n",
            "Epoch 98/100\n",
            "7/7 [==============================] - 0s 18ms/step - loss: 0.0146 - accuracy: 0.9950\n",
            "Epoch 99/100\n",
            "7/7 [==============================] - 0s 21ms/step - loss: 0.0148 - accuracy: 0.9950\n",
            "Epoch 100/100\n",
            "7/7 [==============================] - 0s 21ms/step - loss: 0.0181 - accuracy: 0.9849\n"
          ]
        }
      ]
    },
    {
      "cell_type": "code",
      "source": [
        "def buildPhrase(inp_str, str_len = 50):\n",
        "  for i in range(str_len):\n",
        "    x = []\n",
        "    for j in range(i, i+inp_chars):\n",
        "      x.append(tokenizer.texts_to_matrix(inp_str[j])) # преобразуем символы в One-Hot-encoding\n",
        "\n",
        "    x = np.array(x)\n",
        "    inp = x.reshape(1, inp_chars, num_characters)\n",
        "\n",
        "    pred = model.predict( inp ) # предсказываем OHE четвертого символа\n",
        "    d = tokenizer.index_word[pred.argmax(axis=1)[0]] # получаем ответ в символьном представлении\n",
        "\n",
        "    inp_str += d # дописываем строку\n",
        "\n",
        "  return inp_str"
      ],
      "metadata": {
        "id": "5QO0O670Mk3y"
      },
      "execution_count": 68,
      "outputs": []
    },
    {
      "cell_type": "code",
      "source": [
        "res = buildPhrase(\"утренн\")\n",
        "print(res)"
      ],
      "metadata": {
        "colab": {
          "base_uri": "https://localhost:8080/"
        },
        "id": "RRwg3_9tOHHL",
        "outputId": "0cf5aed8-dc0e-47d2-b7b3-1b76dcc57c24"
      },
      "execution_count": 69,
      "outputs": [
        {
          "output_type": "stream",
          "name": "stdout",
          "text": [
            "1/1 [==============================] - 0s 151ms/step\n",
            "1/1 [==============================] - 0s 22ms/step\n",
            "1/1 [==============================] - 0s 22ms/step\n",
            "1/1 [==============================] - 0s 25ms/step\n",
            "1/1 [==============================] - 0s 25ms/step\n",
            "1/1 [==============================] - 0s 25ms/step\n",
            "1/1 [==============================] - 0s 23ms/step\n",
            "1/1 [==============================] - 0s 23ms/step\n",
            "1/1 [==============================] - 0s 22ms/step\n",
            "1/1 [==============================] - 0s 22ms/step\n",
            "1/1 [==============================] - 0s 23ms/step\n",
            "1/1 [==============================] - 0s 21ms/step\n",
            "1/1 [==============================] - 0s 24ms/step\n",
            "1/1 [==============================] - 0s 21ms/step\n",
            "1/1 [==============================] - 0s 23ms/step\n",
            "1/1 [==============================] - 0s 23ms/step\n",
            "1/1 [==============================] - 0s 24ms/step\n",
            "1/1 [==============================] - 0s 26ms/step\n",
            "1/1 [==============================] - 0s 25ms/step\n",
            "1/1 [==============================] - 0s 23ms/step\n",
            "1/1 [==============================] - 0s 23ms/step\n",
            "1/1 [==============================] - 0s 34ms/step\n",
            "1/1 [==============================] - 0s 23ms/step\n",
            "1/1 [==============================] - 0s 22ms/step\n",
            "1/1 [==============================] - 0s 22ms/step\n",
            "1/1 [==============================] - 0s 23ms/step\n",
            "1/1 [==============================] - 0s 23ms/step\n",
            "1/1 [==============================] - 0s 27ms/step\n",
            "1/1 [==============================] - 0s 23ms/step\n",
            "1/1 [==============================] - 0s 24ms/step\n",
            "1/1 [==============================] - 0s 25ms/step\n",
            "1/1 [==============================] - 0s 22ms/step\n",
            "1/1 [==============================] - 0s 27ms/step\n",
            "1/1 [==============================] - 0s 26ms/step\n",
            "1/1 [==============================] - 0s 22ms/step\n",
            "1/1 [==============================] - 0s 24ms/step\n",
            "1/1 [==============================] - 0s 21ms/step\n",
            "1/1 [==============================] - 0s 21ms/step\n",
            "1/1 [==============================] - 0s 22ms/step\n",
            "1/1 [==============================] - 0s 22ms/step\n",
            "1/1 [==============================] - 0s 39ms/step\n",
            "1/1 [==============================] - 0s 40ms/step\n",
            "1/1 [==============================] - 0s 40ms/step\n",
            "1/1 [==============================] - 0s 46ms/step\n",
            "1/1 [==============================] - 0s 45ms/step\n",
            "1/1 [==============================] - 0s 34ms/step\n",
            "1/1 [==============================] - 0s 36ms/step\n",
            "1/1 [==============================] - 0s 34ms/step\n",
            "1/1 [==============================] - 0s 36ms/step\n",
            "1/1 [==============================] - 0s 35ms/step\n",
            "утренневтовна и вбльмы которые возникли в понедельникдум\n"
          ]
        }
      ]
    },
    {
      "cell_type": "markdown",
      "source": [
        "# слова"
      ],
      "metadata": {
        "id": "EdFDv7QEOgJZ"
      }
    },
    {
      "cell_type": "code",
      "source": [
        "with open('train_data.txt', 'r', encoding='utf-8') as f:\n",
        "    texts = f.read()\n",
        "    texts = texts.replace('\\ufeff', '') # убираем первый невидимый символ"
      ],
      "metadata": {
        "id": "TzPVtOPmOixg"
      },
      "execution_count": 70,
      "outputs": []
    },
    {
      "cell_type": "code",
      "source": [
        "maxWordsCount = 1000\n",
        "tokenizer = Tokenizer(num_words=maxWordsCount, filters='!–\"—#$%&amp;()*+,-./:;<=>?@[\\\\]^_`{|}~\\t\\n\\r«»',\n",
        "                       lower=True, split=' ', char_level=False)\n",
        "tokenizer.fit_on_texts([texts])"
      ],
      "metadata": {
        "id": "SXAfIXmIPSgd"
      },
      "execution_count": 71,
      "outputs": []
    },
    {
      "cell_type": "code",
      "source": [
        "print(tokenizer.word_index)"
      ],
      "metadata": {
        "colab": {
          "base_uri": "https://localhost:8080/"
        },
        "id": "3YUWM_RDPe7D",
        "outputId": "51ca5e39-ca3e-45d9-dade-c45954537621"
      },
      "execution_count": 72,
      "outputs": [
        {
          "output_type": "stream",
          "name": "stdout",
          "text": [
            "{'вы': 1, 'в': 2, 'понедельник': 3, 'лучший': 4, 'ответ': 5, 'на': 6, 'проблемы': 7, 'которые': 8, 'возникли': 9, 'думайте': 10, 'позитивно': 11, 'и': 12, 'верьте': 13, 'свою': 14, 'способность': 15, 'достигать': 16, 'отличных': 17, 'результатов': 18, 'если': 19, 'смогли': 20, 'подняться': 21, 'с': 22, 'постели': 23, 'значит': 24, 'супер': 25, 'герой': 26}\n"
          ]
        }
      ]
    },
    {
      "cell_type": "code",
      "source": [
        "dist = list(tokenizer.word_counts.items())\n",
        "print(dist[:10])"
      ],
      "metadata": {
        "colab": {
          "base_uri": "https://localhost:8080/"
        },
        "id": "QD8FVwJtPvdC",
        "outputId": "69427ad4-7d7e-47d5-da76-630ae6c2aeff"
      },
      "execution_count": 73,
      "outputs": [
        {
          "output_type": "stream",
          "name": "stdout",
          "text": [
            "[('вы', 3), ('лучший', 1), ('ответ', 1), ('на', 1), ('проблемы', 1), ('которые', 1), ('возникли', 1), ('в', 3), ('понедельник', 2), ('думайте', 1)]\n"
          ]
        }
      ]
    },
    {
      "cell_type": "code",
      "source": [
        "data = tokenizer.texts_to_sequences([texts])"
      ],
      "metadata": {
        "id": "MT6hH9vxP7DC"
      },
      "execution_count": 74,
      "outputs": []
    },
    {
      "cell_type": "code",
      "source": [
        "data"
      ],
      "metadata": {
        "colab": {
          "base_uri": "https://localhost:8080/"
        },
        "id": "d55cOxc8P8fM",
        "outputId": "5dc1ea42-00af-49c3-9021-54c9c2ff5b44"
      },
      "execution_count": 75,
      "outputs": [
        {
          "output_type": "execute_result",
          "data": {
            "text/plain": [
              "[[1,\n",
              "  4,\n",
              "  5,\n",
              "  6,\n",
              "  7,\n",
              "  8,\n",
              "  9,\n",
              "  2,\n",
              "  3,\n",
              "  10,\n",
              "  11,\n",
              "  12,\n",
              "  13,\n",
              "  2,\n",
              "  14,\n",
              "  15,\n",
              "  16,\n",
              "  17,\n",
              "  18,\n",
              "  19,\n",
              "  1,\n",
              "  20,\n",
              "  2,\n",
              "  3,\n",
              "  21,\n",
              "  22,\n",
              "  23,\n",
              "  24,\n",
              "  1,\n",
              "  25,\n",
              "  26]]"
            ]
          },
          "metadata": {},
          "execution_count": 75
        }
      ]
    },
    {
      "cell_type": "code",
      "source": [
        "len (data[0])"
      ],
      "metadata": {
        "colab": {
          "base_uri": "https://localhost:8080/"
        },
        "id": "SOSbEiBvQwxq",
        "outputId": "e3f9bda7-0e98-4ec9-b098-b871b5537be4"
      },
      "execution_count": 76,
      "outputs": [
        {
          "output_type": "execute_result",
          "data": {
            "text/plain": [
              "31"
            ]
          },
          "metadata": {},
          "execution_count": 76
        }
      ]
    },
    {
      "cell_type": "code",
      "source": [
        "res = keras.utils.to_categorical(data[0], num_classes=maxWordsCount)\n",
        "print( res.shape )"
      ],
      "metadata": {
        "colab": {
          "base_uri": "https://localhost:8080/"
        },
        "id": "yp5oG6kfP8V8",
        "outputId": "21c4b7c1-97f1-4bd2-cdf8-0cdf3c14915e"
      },
      "execution_count": 77,
      "outputs": [
        {
          "output_type": "stream",
          "name": "stdout",
          "text": [
            "(31, 1000)\n"
          ]
        }
      ]
    },
    {
      "cell_type": "code",
      "source": [
        "inp_words = 3\n",
        "n = res.shape[0]-inp_words"
      ],
      "metadata": {
        "id": "GoeVE7mwQ8hr"
      },
      "execution_count": 78,
      "outputs": []
    },
    {
      "cell_type": "code",
      "source": [
        "X = np.array([res[i:i+inp_words, :] for i in range(n)])\n",
        "Y = res[inp_words:]"
      ],
      "metadata": {
        "id": "rMYiB6xgQ_dY"
      },
      "execution_count": 79,
      "outputs": []
    },
    {
      "cell_type": "code",
      "source": [
        "model = Sequential()\n",
        "model.add(Input((inp_words, maxWordsCount)))\n",
        "model.add(SimpleRNN(128, activation='tanh'))\n",
        "model.add(Dense(maxWordsCount, activation='softmax'))\n",
        "model.summary()\n",
        "\n",
        "model.compile(loss='categorical_crossentropy', metrics=['accuracy'], optimizer='adam')"
      ],
      "metadata": {
        "colab": {
          "base_uri": "https://localhost:8080/"
        },
        "id": "Cy-xdWEVRD15",
        "outputId": "96004d85-fada-4ca1-a8af-049fa3159bea"
      },
      "execution_count": 80,
      "outputs": [
        {
          "output_type": "stream",
          "name": "stdout",
          "text": [
            "Model: \"sequential_4\"\n",
            "_________________________________________________________________\n",
            " Layer (type)                Output Shape              Param #   \n",
            "=================================================================\n",
            " simple_rnn_4 (SimpleRNN)    (None, 128)               144512    \n",
            "                                                                 \n",
            " dense_4 (Dense)             (None, 1000)              129000    \n",
            "                                                                 \n",
            "=================================================================\n",
            "Total params: 273512 (1.04 MB)\n",
            "Trainable params: 273512 (1.04 MB)\n",
            "Non-trainable params: 0 (0.00 Byte)\n",
            "_________________________________________________________________\n"
          ]
        }
      ]
    },
    {
      "cell_type": "code",
      "source": [
        "history = model.fit(X, Y, batch_size=32, epochs=12)"
      ],
      "metadata": {
        "colab": {
          "base_uri": "https://localhost:8080/"
        },
        "id": "51Mz9RojRHWt",
        "outputId": "73fd6df4-2691-4915-865f-502f14878f21"
      },
      "execution_count": 81,
      "outputs": [
        {
          "output_type": "stream",
          "name": "stdout",
          "text": [
            "Epoch 1/12\n",
            "1/1 [==============================] - 1s 1s/step - loss: 6.8975 - accuracy: 0.0000e+00\n",
            "Epoch 2/12\n",
            "1/1 [==============================] - 0s 17ms/step - loss: 6.8715 - accuracy: 0.0000e+00\n",
            "Epoch 3/12\n",
            "1/1 [==============================] - 0s 20ms/step - loss: 6.8450 - accuracy: 0.0714\n",
            "Epoch 4/12\n",
            "1/1 [==============================] - 0s 18ms/step - loss: 6.8179 - accuracy: 0.1429\n",
            "Epoch 5/12\n",
            "1/1 [==============================] - 0s 19ms/step - loss: 6.7899 - accuracy: 0.5714\n",
            "Epoch 6/12\n",
            "1/1 [==============================] - 0s 18ms/step - loss: 6.7608 - accuracy: 0.7143\n",
            "Epoch 7/12\n",
            "1/1 [==============================] - 0s 18ms/step - loss: 6.7303 - accuracy: 0.8571\n",
            "Epoch 8/12\n",
            "1/1 [==============================] - 0s 19ms/step - loss: 6.6980 - accuracy: 0.9286\n",
            "Epoch 9/12\n",
            "1/1 [==============================] - 0s 18ms/step - loss: 6.6635 - accuracy: 0.9643\n",
            "Epoch 10/12\n",
            "1/1 [==============================] - 0s 23ms/step - loss: 6.6265 - accuracy: 1.0000\n",
            "Epoch 11/12\n",
            "1/1 [==============================] - 0s 18ms/step - loss: 6.5863 - accuracy: 1.0000\n",
            "Epoch 12/12\n",
            "1/1 [==============================] - 0s 17ms/step - loss: 6.5425 - accuracy: 1.0000\n"
          ]
        }
      ]
    },
    {
      "cell_type": "code",
      "source": [
        "def buildPhrase(texts, str_len = 20):\n",
        "  res = texts\n",
        "  data = tokenizer.texts_to_sequences([texts])[0]\n",
        "  for i in range(str_len):\n",
        "    x = keras.utils.to_categorical(data[i: i+inp_words], num_classes=maxWordsCount) # преобразуем в One-Hot-encoding\n",
        "    inp = x.reshape(1, inp_words, maxWordsCount)\n",
        "\n",
        "    pred = model.predict( inp ) # предсказываем OHE четвертого символа\n",
        "    indx = pred.argmax(axis=1)[0]\n",
        "    data.append(indx)\n",
        "\n",
        "    res += \" \" + tokenizer.index_word[indx] # дописываем строку\n",
        "\n",
        "  return res"
      ],
      "metadata": {
        "id": "BWTSOxINRNIP"
      },
      "execution_count": 98,
      "outputs": []
    },
    {
      "cell_type": "code",
      "source": [
        "res = buildPhrase(\"лучший ответ на проблемы\")\n",
        "print(res)"
      ],
      "metadata": {
        "colab": {
          "base_uri": "https://localhost:8080/"
        },
        "id": "uVNjSCkqRdxE",
        "outputId": "5c981d3d-b1cd-40ed-90e5-05674276a60d"
      },
      "execution_count": 100,
      "outputs": [
        {
          "output_type": "stream",
          "name": "stdout",
          "text": [
            "1/1 [==============================] - 0s 147ms/step\n",
            "1/1 [==============================] - 0s 21ms/step\n",
            "1/1 [==============================] - 0s 22ms/step\n",
            "1/1 [==============================] - 0s 21ms/step\n",
            "1/1 [==============================] - 0s 21ms/step\n",
            "1/1 [==============================] - 0s 22ms/step\n",
            "1/1 [==============================] - 0s 21ms/step\n",
            "1/1 [==============================] - 0s 24ms/step\n",
            "1/1 [==============================] - 0s 22ms/step\n",
            "1/1 [==============================] - 0s 20ms/step\n",
            "1/1 [==============================] - 0s 21ms/step\n",
            "1/1 [==============================] - 0s 21ms/step\n",
            "1/1 [==============================] - 0s 21ms/step\n",
            "1/1 [==============================] - 0s 21ms/step\n",
            "1/1 [==============================] - 0s 21ms/step\n",
            "1/1 [==============================] - 0s 20ms/step\n",
            "1/1 [==============================] - 0s 22ms/step\n",
            "1/1 [==============================] - 0s 21ms/step\n",
            "1/1 [==============================] - 0s 21ms/step\n",
            "1/1 [==============================] - 0s 20ms/step\n",
            "лучший ответ на проблемы проблемы которые возникли в в понедельник думайте думайте позитивно и понедельник верьте в свою понедельник способность достигать отличных отличных результатов\n"
          ]
        }
      ]
    }
  ]
}